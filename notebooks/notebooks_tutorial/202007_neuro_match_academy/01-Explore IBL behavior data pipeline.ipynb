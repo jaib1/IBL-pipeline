{
 "cells": [
  {
   "cell_type": "markdown",
   "metadata": {},
   "source": [
    "# Explore IBL data Pipeline\n",
    "\n",
    "This notebook gives an brief introduction on the IBL pipeline, and provide some guidance on how to explore the data pipeline with DataJoint tools\n",
    "\n",
    "*DataJoint* is a general framework in Python (or Matlab) that allow users to interact with MySQL database with Python (or Matlab). To learn more, visit the website https://datajoint.io/, DataJoint Neuro is the team that develop DataJoint and help researchers to adopt DataJoint and design pipeline. To check out more, please visit https://djneuro.io/"
   ]
  },
  {
   "cell_type": "markdown",
   "metadata": {},
   "source": [
    "Using DataJoint framework, we have been processing data daily within IBL project, and provides a website that display the daily training results at https://data.internationalbrainlab.org"
   ]
  },
  {
   "cell_type": "markdown",
   "metadata": {},
   "source": [
    "Here we will go through some useful tools to navigate with the data itself.  \n",
    "\n",
    "First thing first, let's **import DataJoint and the IBL pipeline package**."
   ]
  },
  {
   "cell_type": "code",
   "execution_count": 1,
   "metadata": {},
   "outputs": [],
   "source": [
    "import datajoint as dj"
   ]
  },
  {
   "cell_type": "code",
   "execution_count": null,
   "metadata": {},
   "outputs": [],
   "source": [
    "from ibl_pipeline import reference, subject, action, acquisition, data, behavior\n",
    "from ibl_pipeline.analyses import behavior as behavior_analyses"
   ]
  },
  {
   "cell_type": "markdown",
   "metadata": {},
   "source": [
    "# 1. Browse schemas you have access to - `dj.list_schemas()`\n",
    "\n",
    "Schemas are groups of tables. Tables in one schema are intuitively related.\n",
    "\n",
    "The IBL database current have the following schemas, which could be listed with a DataJoint method:"
   ]
  },
  {
   "cell_type": "code",
   "execution_count": null,
   "metadata": {},
   "outputs": [],
   "source": [
    "dj.list_schemas()"
   ]
  },
  {
   "cell_type": "markdown",
   "metadata": {},
   "source": [
    "## Major schemas:   \n",
    "\n",
    "1. Meta data from **Alyx**:   \n",
    "    1) `ibl_reference`: general information on labs, users and projects  \n",
    "    2) `ibl_subject`: subject related housing, genetic, information  \n",
    "    3) `ibl_action`: surgery information  \n",
    "    4) `ibl_acquisition`: session information  \n",
    "    5) `ibl_data`: data managing information  \n",
    "    \n",
    "2. Imported data from **FlatIron**: `ibl_behavior`, trial information of the task.\n",
    "3. Computed analyzed results of the behavioral data: `ibl_analyses_behavior`    "
   ]
  },
  {
   "cell_type": "markdown",
   "metadata": {},
   "source": [
    "# 2. Browse tables in a schema - `dj.Diagram` or `dj.Di`  \n",
    "\n",
    "`dj.Diagram` shows the tables and the dependencies among them. There are four types of DataJoint tables:"
   ]
  },
  {
   "cell_type": "markdown",
   "metadata": {},
   "source": [
    "**Table tiers**:  \n",
    "\n",
    "_Manual table_: green box, entries in a manual table were inserted manually and cannot recovered if deleted. A typical example of a manual table is the subject table that saves information of animal subjects  \n",
    "\n",
    "**Lookup table**: gray box, lookup tables save general facts that are rarely changed, such as possible genetic lines of an animals, or parameter information of a model  \n",
    "\n",
    "**Imported table**: blue oval, entries in an imported table are imported from the external data, usually with code within the DataJoint table. If deleted, the entries are recoverable if external data still exists. Examples of imported tables are tables for experimental recordings.  \n",
    "\n",
    "**Computed table**: red circle, entries in an imported table are computed from data in the database. If deleted, the entries are easily recoverable. Examples of computed tables are tables for analyzed results.\n",
    "\n",
    "**Part table**: plain text, tightly link to its master table, usually imported through the master table."
   ]
  },
  {
   "cell_type": "markdown",
   "metadata": {},
   "source": [
    "**Dependencies**:  \n",
    "**One-to-one primary**: thick solid line, tables with one-to-one primary dependency have the exact same definition of the primary key.  \n",
    "\n",
    "**One-to-many primary**: thin solid line, the child table inherits the primary key definition from its parent, but has additional field as part of the primary key as well.\n",
    "\n",
    "**Secondary foreign key reference**: dashed line, a secondary attribute references to a \n",
    "Renamed secondary foreign key references: orange dot"
   ]
  },
  {
   "cell_type": "markdown",
   "metadata": {},
   "source": [
    "## Show tables in the whole schema"
   ]
  },
  {
   "cell_type": "code",
   "execution_count": null,
   "metadata": {},
   "outputs": [],
   "source": [
    "import datajoint as dj\n",
    "from ibl_pipeline import reference"
   ]
  },
  {
   "cell_type": "code",
   "execution_count": null,
   "metadata": {},
   "outputs": [],
   "source": [
    "dj.Diagram(reference)"
   ]
  },
  {
   "cell_type": "markdown",
   "metadata": {},
   "source": [
    "## Show diagram of arbitruary parts of the database"
   ]
  },
  {
   "cell_type": "markdown",
   "metadata": {},
   "source": [
    "A combination of arbitruary tables:"
   ]
  },
  {
   "cell_type": "code",
   "execution_count": null,
   "metadata": {},
   "outputs": [],
   "source": [
    "dj.Diagram(subject.Subject) + dj.Diagram(subject.Line) + dj.Diagram(subject.SubjectLab) + dj.Diagram(subject.SubjectProject)"
   ]
  },
  {
   "cell_type": "markdown",
   "metadata": {},
   "source": [
    "The tables could be from different schemas:"
   ]
  },
  {
   "cell_type": "code",
   "execution_count": null,
   "metadata": {},
   "outputs": [],
   "source": [
    "dj.Diagram(subject.Subject) + dj.Diagram(acquisition.Session)"
   ]
  },
  {
   "cell_type": "markdown",
   "metadata": {},
   "source": [
    "# 3. Getting the detailed definition of a table - `table.describe()`"
   ]
  },
  {
   "cell_type": "code",
   "execution_count": null,
   "metadata": {},
   "outputs": [],
   "source": [
    "subject.Subject.describe();"
   ]
  },
  {
   "cell_type": "markdown",
   "metadata": {},
   "source": [
    "# 4. Browsing of data - queries"
   ]
  },
  {
   "cell_type": "markdown",
   "metadata": {},
   "source": [
    "Query all subjects"
   ]
  },
  {
   "cell_type": "code",
   "execution_count": null,
   "metadata": {},
   "outputs": [],
   "source": [
    "subject.Subject()"
   ]
  },
  {
   "cell_type": "markdown",
   "metadata": {},
   "source": [
    "## Restriction  `&`: filtering data"
   ]
  },
  {
   "cell_type": "markdown",
   "metadata": {},
   "source": [
    "### Restriction: Query one subject"
   ]
  },
  {
   "cell_type": "code",
   "execution_count": null,
   "metadata": {},
   "outputs": [],
   "source": [
    "# restrict by string\n",
    "subject.Subject & 'subject_nickname=\"IBL-T1\"'"
   ]
  },
  {
   "cell_type": "code",
   "execution_count": null,
   "metadata": {},
   "outputs": [],
   "source": [
    "# restrict by dictionary\n",
    "from uuid import UUID\n",
    "subject.Subject & {'subject_uuid': UUID('00c60db3-74c3-4ee2-9df9-2c84acf84e92')}"
   ]
  },
  {
   "cell_type": "code",
   "execution_count": null,
   "metadata": {},
   "outputs": [],
   "source": [
    "subject.Subject & {'sex': 'm'}"
   ]
  },
  {
   "cell_type": "markdown",
   "metadata": {},
   "source": [
    "### Restriction: Query subjects born after a date"
   ]
  },
  {
   "cell_type": "code",
   "execution_count": null,
   "metadata": {},
   "outputs": [],
   "source": [
    "subject.Subject & 'subject_birth_date > \"2019-01-01\"'"
   ]
  },
  {
   "cell_type": "markdown",
   "metadata": {},
   "source": [
    "### Restriction: subjects within a range of dates"
   ]
  },
  {
   "cell_type": "code",
   "execution_count": null,
   "metadata": {},
   "outputs": [],
   "source": [
    "subject.Subject & 'subject_birth_date between \"2019-01-01\" and \"2019-04-01\"'"
   ]
  },
  {
   "cell_type": "markdown",
   "metadata": {},
   "source": [
    "### Restriction: Query subjects on multiple attributes"
   ]
  },
  {
   "cell_type": "code",
   "execution_count": null,
   "metadata": {},
   "outputs": [],
   "source": [
    "subject.Subject & 'subject_birth_date > \"2019-01-01\"' & 'sex=\"M\"'"
   ]
  },
  {
   "cell_type": "markdown",
   "metadata": {},
   "source": [
    "### Restriction: Query dead subjects"
   ]
  },
  {
   "cell_type": "code",
   "execution_count": null,
   "metadata": {},
   "outputs": [],
   "source": [
    "# subjects that are dead\n",
    "subject.Subject & subject.Death"
   ]
  },
  {
   "cell_type": "code",
   "execution_count": null,
   "metadata": {},
   "outputs": [],
   "source": [
    "# subjects that are alive\n",
    "subject.Subject - subject.Death"
   ]
  },
  {
   "cell_type": "markdown",
   "metadata": {},
   "source": [
    "## Join `*`:  gather information from different tables"
   ]
  },
  {
   "cell_type": "code",
   "execution_count": null,
   "metadata": {},
   "outputs": [],
   "source": [
    "subject.Subject * acquisition.Session"
   ]
  },
  {
   "cell_type": "markdown",
   "metadata": {},
   "source": [
    "## Projection `.proj()`: focus on attributes of interest"
   ]
  },
  {
   "cell_type": "code",
   "execution_count": null,
   "metadata": {},
   "outputs": [],
   "source": [
    "subject.Subject.proj()"
   ]
  },
  {
   "cell_type": "code",
   "execution_count": null,
   "metadata": {},
   "outputs": [],
   "source": [
    "subject.Subject.proj('subject_birth_date', 'sex')"
   ]
  },
  {
   "cell_type": "markdown",
   "metadata": {},
   "source": [
    "### rename attribute with ***proj()***"
   ]
  },
  {
   "cell_type": "code",
   "execution_count": null,
   "metadata": {},
   "outputs": [],
   "source": [
    "subject.Subject.proj('sex', dob='subject_birth_date')"
   ]
  },
  {
   "cell_type": "markdown",
   "metadata": {},
   "source": [
    "### perform simple computations with ***proj***"
   ]
  },
  {
   "cell_type": "markdown",
   "metadata": {},
   "source": [
    "**Example 1: Get date of a session:**"
   ]
  },
  {
   "cell_type": "code",
   "execution_count": null,
   "metadata": {},
   "outputs": [],
   "source": [
    "sessions_with_date = acquisition.Session.proj(session_date='date(session_start_time)')"
   ]
  },
  {
   "cell_type": "code",
   "execution_count": null,
   "metadata": {},
   "outputs": [],
   "source": [
    "sessions_with_date"
   ]
  },
  {
   "cell_type": "markdown",
   "metadata": {},
   "source": [
    "**Example 2: Age of the animal when performing each session?**"
   ]
  },
  {
   "cell_type": "code",
   "execution_count": null,
   "metadata": {},
   "outputs": [],
   "source": [
    "# First get the date of birth and the session date into the same query\n",
    "q = subject.Subject * acquisition.Session"
   ]
  },
  {
   "cell_type": "code",
   "execution_count": null,
   "metadata": {},
   "outputs": [],
   "source": [
    "q"
   ]
  },
  {
   "cell_type": "code",
   "execution_count": null,
   "metadata": {},
   "outputs": [],
   "source": [
    "# Then compute the age\n",
    "q_with_age = q.proj(age='datediff(session_start_time, subject_birth_date)')\n",
    "q_with_age"
   ]
  },
  {
   "cell_type": "markdown",
   "metadata": {},
   "source": [
    "## Aggregation `.aggr()`: simple computation of one table against another table"
   ]
  },
  {
   "cell_type": "markdown",
   "metadata": {},
   "source": [
    "Example: how many sessions does each subject do so far?"
   ]
  },
  {
   "cell_type": "code",
   "execution_count": null,
   "metadata": {},
   "outputs": [],
   "source": [
    "subject.Subject.aggr(acquisition.Session, 'subject_nickname', n='count(*)')"
   ]
  },
  {
   "cell_type": "markdown",
   "metadata": {},
   "source": [
    "# 5. Fetching data"
   ]
  },
  {
   "cell_type": "markdown",
   "metadata": {},
   "source": [
    "## Fetch all fields: `fetch()`"
   ]
  },
  {
   "cell_type": "code",
   "execution_count": null,
   "metadata": {},
   "outputs": [],
   "source": [
    "# fetch all data from a table\n",
    "subjs = subject.Subject.fetch()\n",
    "subjs"
   ]
  },
  {
   "cell_type": "code",
   "execution_count": null,
   "metadata": {},
   "outputs": [],
   "source": [
    "subjs['subject_uuid']"
   ]
  },
  {
   "cell_type": "code",
   "execution_count": null,
   "metadata": {},
   "outputs": [],
   "source": [
    "subjs['subject_birth_date']"
   ]
  },
  {
   "cell_type": "code",
   "execution_count": null,
   "metadata": {},
   "outputs": [],
   "source": [
    "# fetch as a list of dictionaries\n",
    "subjs_dict = subject.Subject.fetch(as_dict=True)\n",
    "subjs_dict"
   ]
  },
  {
   "cell_type": "code",
   "execution_count": null,
   "metadata": {},
   "outputs": [],
   "source": [
    "# fetch as pandas dataframe\n",
    "subjs_df = subject.Subject.fetch(format='frame')\n",
    "subjs_df"
   ]
  },
  {
   "cell_type": "code",
   "execution_count": null,
   "metadata": {},
   "outputs": [],
   "source": [
    "# fetch the primary key\n",
    "pk = subject.Subject.fetch('KEY')\n",
    "pk"
   ]
  },
  {
   "cell_type": "code",
   "execution_count": null,
   "metadata": {},
   "outputs": [],
   "source": [
    "# fetch specific attributes\n",
    "dob, sex = subject.Subject.fetch('subject_birth_date', 'sex')"
   ]
  },
  {
   "cell_type": "code",
   "execution_count": null,
   "metadata": {},
   "outputs": [],
   "source": [
    "dob"
   ]
  },
  {
   "cell_type": "code",
   "execution_count": null,
   "metadata": {},
   "outputs": [],
   "source": [
    "info = subject.Subject.fetch('subject_birth_date', 'sex', as_dict=True)\n",
    "info"
   ]
  },
  {
   "cell_type": "markdown",
   "metadata": {},
   "source": [
    "## fetch data only from one entry: `fetch1`"
   ]
  },
  {
   "cell_type": "code",
   "execution_count": null,
   "metadata": {},
   "outputs": [],
   "source": [
    "CSHL_015 = (subject.Subject & {'subject_nickname': 'CSHL_015'}).fetch1('KEY')  # \"fetch1()\" because we know there's only one"
   ]
  },
  {
   "cell_type": "code",
   "execution_count": null,
   "metadata": {},
   "outputs": [],
   "source": [
    "CSHL_015"
   ]
  },
  {
   "cell_type": "code",
   "execution_count": null,
   "metadata": {},
   "outputs": [],
   "source": [
    "IBL_T1 = (subject.Subject & {'subject_nickname': 'IBL-T1'}).fetch1()"
   ]
  },
  {
   "cell_type": "code",
   "execution_count": null,
   "metadata": {},
   "outputs": [],
   "source": [
    "IBL_T1"
   ]
  },
  {
   "cell_type": "markdown",
   "metadata": {},
   "source": [
    "# 5. Behavioral trial information"
   ]
  },
  {
   "cell_type": "markdown",
   "metadata": {},
   "source": [
    "The most important information in the data pipeline so far is the behavioral trials for the 2 alternative force choice task. We would go into a bit more details in the relevant tables."
   ]
  },
  {
   "cell_type": "markdown",
   "metadata": {},
   "source": [
    "The `behavior` schema contains tables for the behavior information. The most important table is `behavior.TrialSet`"
   ]
  },
  {
   "cell_type": "code",
   "execution_count": null,
   "metadata": {},
   "outputs": [],
   "source": [
    "behavior.TrialSet()"
   ]
  },
  {
   "cell_type": "markdown",
   "metadata": {},
   "source": [
    "The TrialSet table stores some summary statistics in one session of behavioral experiment. To also show the information of the subject, we could join the table with subject related tables."
   ]
  },
  {
   "cell_type": "code",
   "execution_count": null,
   "metadata": {},
   "outputs": [],
   "source": [
    "behavior.TrialSet * subject.Subject * subject.SubjectLab * subject.SubjectProject"
   ]
  },
  {
   "cell_type": "markdown",
   "metadata": {},
   "source": [
    "We could restrict to one session by:"
   ]
  },
  {
   "cell_type": "code",
   "execution_count": null,
   "metadata": {},
   "outputs": [],
   "source": [
    "import datetime\n",
    "q = behavior.TrialSet * subject.Subject * subject.SubjectLab * subject.SubjectProject & \\\n",
    "    'subject_nickname=\"CSHL_015\"' & {'session_start_time': datetime.datetime(2019, 9, 16, 13, 44, 46)}\n",
    "q"
   ]
  },
  {
   "cell_type": "markdown",
   "metadata": {},
   "source": [
    "The trial-by-trial information are shown in a **part table** `behavior.TrialSet.Trial`"
   ]
  },
  {
   "cell_type": "code",
   "execution_count": null,
   "metadata": {},
   "outputs": [],
   "source": [
    "behavior.TrialSet.Trial()"
   ]
  },
  {
   "cell_type": "markdown",
   "metadata": {},
   "source": [
    "We could check the documentation of each of the column with `describe()`"
   ]
  },
  {
   "cell_type": "code",
   "execution_count": null,
   "metadata": {},
   "outputs": [],
   "source": [
    "behavior.TrialSet.Trial.describe();"
   ]
  },
  {
   "cell_type": "markdown",
   "metadata": {},
   "source": [
    "To fetch some part of data, we could do use the fetch method:  "
   ]
  },
  {
   "cell_type": "markdown",
   "metadata": {},
   "source": [
    "For example we would like to see the stimulus contrasts, and the animal choices in one session (that we already queried and saved the results as q), we could do:"
   ]
  },
  {
   "cell_type": "code",
   "execution_count": null,
   "metadata": {},
   "outputs": [],
   "source": [
    "# we could fetch the fields as a list of dictionary, only for the trials with a choice\n",
    "data = (behavior.TrialSet.Trial & q & 'trial_response_choice !=\"No Go\"').fetch(\n",
    "    'trial_stim_contrast_left', 'trial_stim_contrast_right', 'trial_response_choice', as_dict=True)"
   ]
  },
  {
   "cell_type": "code",
   "execution_count": null,
   "metadata": {},
   "outputs": [],
   "source": [
    "# We could then convert the data to a dataframe for further analyses\n",
    "import pandas as pd\n",
    "df = pd.DataFrame(data)\n",
    "df"
   ]
  },
  {
   "cell_type": "markdown",
   "metadata": {},
   "source": [
    "Then we can do some computation here to explore the data."
   ]
  },
  {
   "cell_type": "markdown",
   "metadata": {},
   "source": [
    "We first compute the signed contrast, so that the contrasts on the right are positive"
   ]
  },
  {
   "cell_type": "code",
   "execution_count": null,
   "metadata": {},
   "outputs": [],
   "source": [
    "df['signed_contrast'] = df['trial_stim_contrast_right'] - df['trial_stim_contrast_left']"
   ]
  },
  {
   "cell_type": "code",
   "execution_count": null,
   "metadata": {},
   "outputs": [],
   "source": [
    "df['report_right'] = df['trial_response_choice'] == \"CCW\""
   ]
  },
  {
   "cell_type": "code",
   "execution_count": null,
   "metadata": {},
   "outputs": [],
   "source": [
    "report_right = df.groupby(['signed_contrast'], as_index=False).mean()\n",
    "report_right"
   ]
  },
  {
   "cell_type": "markdown",
   "metadata": {},
   "source": [
    "Then let's plot the psychometric curve: prob_report_right vs signed_contrast:"
   ]
  },
  {
   "cell_type": "code",
   "execution_count": null,
   "metadata": {},
   "outputs": [],
   "source": [
    "import matplotlib.pyplot as plt\n",
    "%matplotlib notebook\n",
    "plt.plot(report_right['signed_contrast'], report_right['report_right'], 'o')\n",
    "plt.xlabel('Signed Contrast')\n",
    "plt.ylabel('Probability reporting right')"
   ]
  },
  {
   "cell_type": "markdown",
   "metadata": {},
   "source": [
    "Some basic analyses such as psychometric curves have been pre-processed and saved in the downstream tables, such as `behavior_analyses.PsychResults`. In the next notebook, we would like to step through how to fetch data from that table and recreate the psychometric curves for a particular session."
   ]
  }
 ],
 "metadata": {
  "kernelspec": {
   "display_name": "Python 3",
   "language": "python",
   "name": "python3"
  },
  "language_info": {
   "codemirror_mode": {
    "name": "ipython",
    "version": 3
   },
   "file_extension": ".py",
   "mimetype": "text/x-python",
   "name": "python",
   "nbconvert_exporter": "python",
   "pygments_lexer": "ipython3",
   "version": "3.6.6"
  }
 },
 "nbformat": 4,
 "nbformat_minor": 4
}
