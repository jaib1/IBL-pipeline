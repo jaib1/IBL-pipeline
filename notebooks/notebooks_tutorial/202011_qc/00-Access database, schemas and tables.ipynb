{
 "cells": [
  {
   "cell_type": "markdown",
   "metadata": {},
   "source": [
    "This set of tutorials aim to introduce the important ephys and histology tables that are ready for usage. We will mention some basics of DataJoint but not systematically. For a full-fledged tutorial on the basics, please visit:  \n",
    "\n",
    ">* [Get DataJoint Ready](../201909_code_camp/0-Get%20DataJoint%20Ready.ipynb): connection to database, set up config\n",
    ">* [Explore IBL data pipeline with DataJoint](../201909_code_camp/1-Explore%20IBL%20data%20pipeline%20with%20DataJoint.ipynb): plot diagram, query, and fetch\n",
    ">* [Analyze data with IBL pipeline and save results](../201909_code_camp/2-Analyze%20data%20with%20IBL%20pipeline%20and%20save%20results.ipynb): use imported and computed table to autopopulate results"
   ]
  },
  {
   "cell_type": "markdown",
   "metadata": {},
   "source": [
    "# Connect to IBL datajoint database"
   ]
  },
  {
   "cell_type": "code",
   "execution_count": null,
   "metadata": {},
   "outputs": [],
   "source": [
    "import datajoint as dj\n",
    "from getpass import getpass\n",
    "\n",
    "# set up dj.config\n",
    "dj.config['database.host'] = 'datajoint.internationalbrainlab.org'\n",
    "dj.config['database.user'] = '{YOUR_USER_NAME}'\n",
    "dj.config['database.password'] = getpass('Please type in your password: ')\n",
    "\n",
    "# connect to the database\n",
    "dj.conn()\n",
    "\n",
    "# save the config locally\n",
    "dj.config.save_local()"
   ]
  },
  {
   "cell_type": "markdown",
   "metadata": {},
   "source": [
    "# List all the schemas you have access to, using `dj.list_schemas()`"
   ]
  },
  {
   "cell_type": "code",
   "execution_count": null,
   "metadata": {},
   "outputs": [],
   "source": [
    "dj.list_schemas()"
   ]
  },
  {
   "cell_type": "markdown",
   "metadata": {},
   "source": [
    "## Major schemas:   \n",
    "Meta data from **Alyx**: `ibl_reference`, `ibl_subject`, `ibl_action`, `ibl_acquisition`, `ibl_data`, and `ibl_qc`  \n",
    "Imported data from **FlatIron**: `ibl_behavior`, `ibl_ephys`, `ibl_histology`  \n",
    "Computed analzyed results: `ibl_analyses_behavior`, `ibl_analyses_ephys` "
   ]
  },
  {
   "cell_type": "markdown",
   "metadata": {},
   "source": [
    "# Access the schemas"
   ]
  },
  {
   "cell_type": "markdown",
   "metadata": {},
   "source": [
    "There are two ways of accessing the schemas with DataJoint\n",
    "\n",
    ">* Create virtual modules\n",
    ">* Import modules from ibl-pipeline"
   ]
  },
  {
   "cell_type": "markdown",
   "metadata": {},
   "source": [
    "## Create virtual modules \n",
    "The tables are designed and generated with DataJoint and the codes are in ibl-pipeline, however, if you just want to access the table contents, you don't have to get the code that defines the tables. Instead, DataJoint provides an method called `create_virtual_module`, allowing users to reconstruct the modules and classes based on the **current** structure of the tables in the database. For example:"
   ]
  },
  {
   "cell_type": "code",
   "execution_count": null,
   "metadata": {},
   "outputs": [],
   "source": [
    "ephys = dj.create_virtual_module('ephys', 'ibl_ephys')"
   ]
  },
  {
   "cell_type": "markdown",
   "metadata": {},
   "source": [
    "The first argument is the `__name__` of the module you would like to give, usually not very important. The second argument is the schema name."
   ]
  },
  {
   "cell_type": "markdown",
   "metadata": {},
   "source": [
    "Now we get the virtual module `ephys`, that contains all the classes to interact with the tables in the schema. Apart from the populate methods, you could do all other DJ operations on this virtual module, including diagram, queries, fetches, create child tables, delete, and drop. Please be extra coutious in deleting and dropping tables."
   ]
  },
  {
   "cell_type": "markdown",
   "metadata": {},
   "source": [
    "Let's take a look at the relational diagram of the module:"
   ]
  },
  {
   "cell_type": "code",
   "execution_count": null,
   "metadata": {},
   "outputs": [],
   "source": [
    "dj.Diagram(ephys)"
   ]
  },
  {
   "cell_type": "markdown",
   "metadata": {},
   "source": [
    "Here is a friendly reminder of what these shapes, colors and lines mean:\n",
    "\n",
    "**Table tiers**:  \n",
    "Manual table: green box  \n",
    "Lookup table: gray box  \n",
    "Imported table: blue oval  \n",
    "Computed table: red circle  \n",
    "Part table: plain text\n",
    "\n",
    "Meaning of table tiers could be found in this [presentation](https://docs.google.com/presentation/d/1mp3Bro1_o_nPScD_g0ygw2z633Rdnd-GGlFEJZmhrBs/edit#slide=id.g7e7b39a7dc_0_5)\n",
    "\n",
    "**Dependencies**:  \n",
    "One-to-one primary: thick solid line  \n",
    "One-to-many primary: thin solid line  \n",
    "Secondary foreign key reference: dashed line  \n",
    "Renamed secondary foreign key references: orange dot"
   ]
  },
  {
   "cell_type": "markdown",
   "metadata": {},
   "source": [
    "We could access tables with the classes of the virtual module. "
   ]
  },
  {
   "cell_type": "code",
   "execution_count": null,
   "metadata": {},
   "outputs": [],
   "source": [
    "ephys.DefaultCluster().describe();"
   ]
  },
  {
   "cell_type": "markdown",
   "metadata": {},
   "source": [
    "Create virtual modules are particularly useful in the following scenarios:\n",
    "\n",
    ">* `group_shared_` schemas: these are the schemas created by the users, and the code to create these modules are not necessarily accessible easily.\n",
    ">* `ibl_` schemas: these schemas were created and defined in ibl-pipeline, but as we are in rapid development, the lastest ibl-pipeline package we released may not reflect the current status of the tables. Create virtual modules is a very good way to access the tables with their current definitions."
   ]
  },
  {
   "cell_type": "markdown",
   "metadata": {},
   "source": [
    "For ephys tables, there are a lot of external fields, such as the `blob@ephys` shown in the above definition. External storage is a feature provided by DataJoint that allows saving bulky data into s3 buckets. From the user point of view, there is no difference from a internal field. However, using external fields need to pre-configure the storage location. Without the configuration, datajoint does not know where to fetch the data."
   ]
  },
  {
   "cell_type": "code",
   "execution_count": null,
   "metadata": {},
   "outputs": [],
   "source": [
    "# fetch the first two entries\n",
    "ephys.DefaultCluster.fetch('cluster_spikes_times', limit=2)"
   ]
  },
  {
   "cell_type": "markdown",
   "metadata": {},
   "source": [
    "To fix the problem, we could `import ibl_pipeline`, where the external storage location was configured. The configuration is stable across different versions of ibl_pipeline."
   ]
  },
  {
   "cell_type": "code",
   "execution_count": null,
   "metadata": {},
   "outputs": [],
   "source": [
    "import ibl_pipeline\n",
    "ephys.DefaultCluster.fetch('cluster_spikes_times', limit=2)"
   ]
  },
  {
   "cell_type": "markdown",
   "metadata": {},
   "source": [
    "## Directly import from ibl-pipeline\n",
    "\n",
    "A more routined method is to directly import modules from the package `ibl-pipeline`"
   ]
  },
  {
   "cell_type": "code",
   "execution_count": null,
   "metadata": {},
   "outputs": [],
   "source": [
    "from ibl_pipeline import ephys, histology"
   ]
  },
  {
   "cell_type": "code",
   "execution_count": null,
   "metadata": {},
   "outputs": [],
   "source": [
    "ephys.DefaultCluster()"
   ]
  },
  {
   "cell_type": "code",
   "execution_count": null,
   "metadata": {},
   "outputs": [],
   "source": [
    "histology.ClusterBrainRegion() & 'insertion_data_source like \"%Ephys%\"'"
   ]
  },
  {
   "cell_type": "markdown",
   "metadata": {},
   "source": [
    "# Summary"
   ]
  },
  {
   "cell_type": "markdown",
   "metadata": {},
   "source": [
    "In this notebook, we introduced the approaches to connect to the database, access schemas and tables. We especially illustrated the usage of `dj.create_virtual_module`, which is quite useful when accessing the rapidly changing schemas and tables.\n",
    "\n",
    "In the [next notebook](01-Introduction%20of%20ephys%20and%20histology%20tables.ipynb), we will go through the important tables in ephys and histology schemas one-by-one."
   ]
  }
 ],
 "metadata": {
  "kernelspec": {
   "display_name": "Python 3",
   "language": "python",
   "name": "python3"
  },
  "language_info": {
   "codemirror_mode": {
    "name": "ipython",
    "version": 3
   },
   "file_extension": ".py",
   "mimetype": "text/x-python",
   "name": "python",
   "nbconvert_exporter": "python",
   "pygments_lexer": "ipython3",
   "version": "3.7.6"
  }
 },
 "nbformat": 4,
 "nbformat_minor": 4
}
