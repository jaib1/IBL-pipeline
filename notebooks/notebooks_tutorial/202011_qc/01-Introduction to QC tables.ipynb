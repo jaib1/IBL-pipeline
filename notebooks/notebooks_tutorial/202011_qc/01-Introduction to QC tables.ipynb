{
 "cells": [
  {
   "cell_type": "markdown",
   "metadata": {},
   "source": [
    "This notebook will walk you through the important tables in the qc schema and how to use them to filter the sessions you need"
   ]
  },
  {
   "cell_type": "code",
   "execution_count": null,
   "metadata": {},
   "outputs": [],
   "source": [
    "# import datajoint and modules from ibl_pipeline\n",
    "import datajoint as dj\n",
    "from ibl_pipeline import reference, subject, acquisition, behavior\n",
    "from ibl_pipeline.analyses import behavior as behavior_analyses\n",
    "import numpy as np"
   ]
  },
  {
   "cell_type": "markdown",
   "metadata": {},
   "source": [
    "QC tables are still in active development. We therefore recommend accessing them with `dj.create_virtual_module()`"
   ]
  },
  {
   "cell_type": "code",
   "execution_count": null,
   "metadata": {},
   "outputs": [],
   "source": [
    "qc = dj.create_virtual_module('qc', 'ibl_qc')"
   ]
  },
  {
   "cell_type": "markdown",
   "metadata": {},
   "source": [
    "# QC tables"
   ]
  },
  {
   "cell_type": "code",
   "execution_count": null,
   "metadata": {},
   "outputs": [],
   "source": [
    "dj.Diagram(qc) + acquisition.Session"
   ]
  },
  {
   "cell_type": "markdown",
   "metadata": {},
   "source": [
    "This diagram shows the QC related tables, and here is the description of the tables."
   ]
  },
  {
   "cell_type": "markdown",
   "metadata": {},
   "source": [
    "\n",
    ">* QCChoice: Available flags to quantify the quality of a session or a specific aspect of a session, lookup table got referred in SessionQC and SessionExtendedQC, 50 for CRITICAL, 40 for FAIL, 30 for WARNING, 10 for PASS, and 0 for NOT SET  \n",
    ">* SessionQC: QCChoice for each session, ingested from alyx field `qc` in the table `actions.session`  \n",
    ">* QCType:  Aspect of a session for quality check. e.g. task, behavior, experimenter…  \n",
    ">* SessionExtendedQC: QCChoice (e.g. FAIL) for a QCType (e.g. task) for each session, structured data about SessionQC  \n",
    ">* SessionExtendedQC.Field: Part table of SessionExtendedQC. For each entry of SessionExtendedQC, there may be multiple fields describing each value (e.g. 0.99) of a qc aspect (e.g. _task_stimOn_delays) that belongs to a QCType (e.g. task).\n",
    "\n"
   ]
  },
  {
   "cell_type": "markdown",
   "metadata": {},
   "source": [
    "Detailed table definitions could be easily checked with the method `describe()`, for example"
   ]
  },
  {
   "cell_type": "code",
   "execution_count": null,
   "metadata": {},
   "outputs": [],
   "source": [
    "qc.QCChoice.describe();"
   ]
  },
  {
   "cell_type": "markdown",
   "metadata": {},
   "source": [
    "Preview the contents of the table:"
   ]
  },
  {
   "cell_type": "code",
   "execution_count": null,
   "metadata": {},
   "outputs": [],
   "source": [
    "qc.QCChoice()"
   ]
  },
  {
   "cell_type": "markdown",
   "metadata": {},
   "source": [
    "# Useful queries"
   ]
  },
  {
   "cell_type": "code",
   "execution_count": null,
   "metadata": {},
   "outputs": [],
   "source": [
    "# Sessions better than CRITICAL?\n",
    "acquisition.Session & (qc.SessionQC & 'qc < 50')"
   ]
  },
  {
   "cell_type": "code",
   "execution_count": null,
   "metadata": {},
   "outputs": [],
   "source": [
    "# Sessions better than critical and also good enough for brainwide map?\n",
    "\n",
    "acquisition.Session & (qc.SessionQC & 'qc < 50') & \\\n",
    "(behavior_analyses.SessionTrainingStatus & 'good_enough_for_brainwide_map')"
   ]
  },
  {
   "cell_type": "code",
   "execution_count": null,
   "metadata": {},
   "outputs": [],
   "source": [
    "# Sessions better than critical for task criteria?\n",
    "\n",
    "acquisition.Session & (qc.SessionExtendedQC & 'qc_type=\"task\"' & 'extended_qc < 40')\n"
   ]
  },
  {
   "cell_type": "markdown",
   "metadata": {},
   "source": [
    "# Summary"
   ]
  },
  {
   "cell_type": "markdown",
   "metadata": {},
   "source": [
    "In this notebook, we listed a few query examples related to the qc schema that might be helpful for your research. For a full fledged introduction of major types of queries and fetches, please refer to [this notebook](../201909_code_camp/1-Explore%20IBL%20data%20pipeline%20with%20DataJoint.ipynb) during the 2019 IBL Code Camp."
   ]
  }
 ],
 "metadata": {
  "kernelspec": {
   "display_name": "Python 3",
   "language": "python",
   "name": "python3"
  },
  "language_info": {
   "codemirror_mode": {
    "name": "ipython",
    "version": 3
   },
   "file_extension": ".py",
   "mimetype": "text/x-python",
   "name": "python",
   "nbconvert_exporter": "python",
   "pygments_lexer": "ipython3",
   "version": "3.7.6"
  }
 },
 "nbformat": 4,
 "nbformat_minor": 4
}
